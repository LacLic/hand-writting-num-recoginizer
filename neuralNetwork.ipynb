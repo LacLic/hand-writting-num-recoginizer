{
 "cells": [
  {
   "cell_type": "code",
   "execution_count": 27,
   "metadata": {},
   "outputs": [],
   "source": [
    "import numpy\n",
    "# scipy.special for the sigmoid function expit()\n",
    "import scipy.special\n",
    "# library for plotting arrays\n",
    "import matplotlib.pyplot\n",
    "# (?) ensure the plots are inside this notebook, not an external window\n",
    "# %matplotlib inline"
   ]
  },
  {
   "cell_type": "code",
   "execution_count": 28,
   "metadata": {},
   "outputs": [],
   "source": [
    "class neuralNetwork():  # neural network class definition\n",
    "    # initialize the neural network\n",
    "\n",
    "    def __init__(self, inputNodes, hiddenNodes, outputNodes, learningRate):\n",
    "\n",
    "        # set number of nodes in each input, hidden, output layer\n",
    "        self.iNodes = inputNodes\n",
    "        self.hNodes = hiddenNodes\n",
    "        self.oNodes = outputNodes\n",
    "\n",
    "        # learning rate\n",
    "        self.learnRate = learningRate\n",
    "\n",
    "        # link weight matrices, wih and who\n",
    "        # weight inside the arrays are w_i_j, where link is from node i to node j in the next layer\n",
    "        # w11 w21\n",
    "        # w12 w22 etc\n",
    "        self.wih = numpy.random.normal(\n",
    "            0.0, pow(self.hNodes, -0.5), (self.hNodes, self.iNodes))\n",
    "        self.who = numpy.random.normal(\n",
    "            0.0, pow(self.oNodes, -0.5), (self.oNodes, self.hNodes))\n",
    "\n",
    "        # annoymous func\n",
    "        self.actiFunc = lambda x: scipy.special.expit(x)\n",
    "\n",
    "    # train the neural network\n",
    "    def train(self, inputs_list, targets_list):\n",
    "\n",
    "        # convert inputs and targets list to 2d array\n",
    "        inputs = numpy.array(inputs_list, ndmin=2).T\n",
    "        targets = numpy.array(targets_list, ndmin=2).T\n",
    "\n",
    "        # calculate signals into hidden layer\n",
    "        hidden_inputs = numpy.dot(self.wih, inputs)\n",
    "        # calculate the signals emerging from hidden layer\n",
    "        hidden_outputs = self.actiFunc(hidden_inputs)\n",
    "\n",
    "        # calculate signals into final output layer\n",
    "        final_inputs = numpy.dot(self.who, hidden_outputs)\n",
    "        # calculate the signals emerging from final output layer\n",
    "        final_outputs = self.actiFunc(final_inputs)\n",
    "\n",
    "        # error is the difference of target and output\n",
    "        output_errors = targets - final_inputs\n",
    "        # hidden layer error is the output_errors, split by weights, recombined at hidden nodes\n",
    "        hidden_errors = numpy.dot(self.who.T, output_errors)\n",
    "\n",
    "        # update the weights for the links between the hidden and output layers\n",
    "        self.who += self.learnRate * \\\n",
    "            numpy.dot((output_errors*final_outputs*(1.0-final_outputs)),\n",
    "                      numpy.transpose(hidden_outputs))\n",
    "        \"\"\"\n",
    "        self.who += self.learnRate * \\\n",
    "            numpy.dot((output_errors*final_outputs*(1.0-final_outputs)),\n",
    "                      hidden_outputs.T)\"\"\"\n",
    "        # between the input and hidden layers\n",
    "        self.wih += self.learnRate * \\\n",
    "            numpy.dot((hidden_errors*hidden_outputs *\n",
    "                       (1.0 - hidden_outputs)), numpy.transpose(inputs))\n",
    "\n",
    "    # query the neural network\n",
    "\n",
    "    def query(self, inputs_list):\n",
    "\n",
    "        # convert inputs list to 2d array\n",
    "        inputs = numpy.array(inputs_list, ndmin=2).T\n",
    "\n",
    "        # calculate signals into hidden layer\n",
    "        hidden_inputs = numpy.dot(self.wih, inputs)\n",
    "        # calculate the signals emerging from hidden layer\n",
    "        hidden_outputs = self.actiFunc(hidden_inputs)\n",
    "\n",
    "        # calculate signals into final output layer\n",
    "        final_inputs = numpy.dot(self.who, hidden_outputs)\n",
    "        # calculate the signals emerging from final output layer\n",
    "        final_outputs = self.actiFunc(final_inputs)\n",
    "\n",
    "        return final_outputs"
   ]
  },
  {
   "cell_type": "code",
   "execution_count": 29,
   "metadata": {},
   "outputs": [],
   "source": [
    "input_nodes = 784  # 28*28\n",
    "hidden_nodes = 100\n",
    "output_nodes = 10\n",
    "learning_rate = 0.3\n",
    "network = neuralNetwork(input_nodes, hidden_nodes, output_nodes, learning_rate)"
   ]
  },
  {
   "cell_type": "code",
   "execution_count": null,
   "metadata": {},
   "outputs": [],
   "source": [
    "with open('train.csv', 'r') as data_file:\n",
    "    data_list = data_file.readlines()[1:]  # 除首行外，全部读取到内存中\n",
    "    # print(data_list)\n",
    "    data_file.close()"
   ]
  },
  {
   "cell_type": "code",
   "execution_count": 32,
   "metadata": {},
   "outputs": [],
   "source": [
    "for record in data_list:\n",
    "    all_values = record.split(',')\n",
    "    # make data into 0.01 ~ 1.00\n",
    "    \"\"\" Remains problem\n",
    "    (why?)\n",
    "    0.01: prevent 0.00 leading to failing to update the weight\n",
    "    1.00: just preventing the output value being 1.00 is enough\n",
    "    \"\"\"\n",
    "    inputs = (numpy.asfarray(all_values[1:])/255.0 * 0.99) + 0.01\n",
    "    # create the target output values (all 0.01, except the desired label which is 0.99)\n",
    "    # numpy.zeros(): use 0 to pad the array\n",
    "    targets = numpy.zeros(output_nodes) + 0.01\n",
    "    # all_values[0] is the label of the record\n",
    "    targets[int(all_values[0])] = 0.99\n",
    "    network.train(inputs, targets)"
   ]
  },
  {
   "cell_type": "code",
   "execution_count": 8,
   "metadata": {},
   "outputs": [],
   "source": [
    "# load the test data CSV file into a list\n",
    "with open('test.csv', 'r') as test_data_file:\n",
    "    test_data_list = test_data_file.readlines()[1:]\n",
    "    test_data_file.close()"
   ]
  },
  {
   "cell_type": "code",
   "execution_count": 35,
   "metadata": {},
   "outputs": [
    {
     "name": "stdout",
     "output_type": "stream",
     "text": [
      "[[0.50142159]\n",
      " [0.50374283]\n",
      " [0.72516126]\n",
      " [0.49168444]\n",
      " [0.50755904]\n",
      " [0.50832701]\n",
      " [0.50813872]\n",
      " [0.5011943 ]\n",
      " [0.49756609]\n",
      " [0.50666464]]\n"
     ]
    }
   ],
   "source": [
    "# for test in test_data_list:\n",
    "#     test_values = test.split(',')\n",
    "#     test_inputs = (numpy.asfarray(test_values)/255.0 * 0.99) + 0.1\n",
    "#     print(network.query(test_inputs))\n",
    "\n",
    "test = test_data_list[0]\n",
    "test_values = test.split(',')\n",
    "test_inputs = (numpy.asfarray(test_values)/255.0 * 0.99) + 0.1\n",
    "print(network.query(test_inputs))\n",
    "# print(test_data_list[0].strip().split(','))"
   ]
  },
  {
   "cell_type": "code",
   "execution_count": 51,
   "metadata": {},
   "outputs": [
    {
     "name": "stdout",
     "output_type": "stream",
     "text": [
      "Answer is 5\n",
      "[[0.50319685]\n",
      " [0.49908915]\n",
      " [0.49833141]\n",
      " [0.50408421]\n",
      " [0.49598345]\n",
      " [0.72754604]\n",
      " [0.50366476]\n",
      " [0.50525643]\n",
      " [0.50072862]\n",
      " [0.51451243]]\n"
     ]
    }
   ],
   "source": [
    "test = data_list[99]\n",
    "print('Answer is',test[0])\n",
    "test_values = test.split(',')\n",
    "test_inputs = (numpy.asfarray(test_values[1:])/255.0 * 0.99) + 0.1\n",
    "print(network.query(test_inputs))"
   ]
  }
 ],
 "metadata": {
  "kernelspec": {
   "display_name": "Python 3",
   "language": "python",
   "name": "python3"
  },
  "language_info": {
   "codemirror_mode": {
    "name": "ipython",
    "version": 3
   },
   "file_extension": ".py",
   "mimetype": "text/x-python",
   "name": "python",
   "nbconvert_exporter": "python",
   "pygments_lexer": "ipython3",
   "version": "3.7.0"
  }
 },
 "nbformat": 4,
 "nbformat_minor": 2
}
